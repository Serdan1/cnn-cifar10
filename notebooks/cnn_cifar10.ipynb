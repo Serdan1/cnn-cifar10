{
 "cells": [
  {
   "cell_type": "markdown",
   "id": "bec01811",
   "metadata": {},
   "source": [
    "\n",
    "# 🧠 Clasificación de Imágenes con CNN — CIFAR-10 (Colab)\n",
    "**Autores:** Daniel Serrano y Alexander Arrosquipa  \n",
    "**Universidad UNIE — Asignatura:** Lenguaje Natural y Compiladores  \n",
    "**Fecha:** Octubre 2025\n",
    "\n",
    "> Notebook listo para ejecutar en **Google Colab**. Contiene las fases 1–3: preparación del dataset, construcción del modelo CNN, entrenamiento, evaluación y visualización de resultados, además de la **Pregunta de Análisis**.\n"
   ]
  },
  {
   "cell_type": "code",
   "execution_count": null,
   "id": "773baad7",
   "metadata": {},
   "outputs": [],
   "source": [
    "# @title 🔧 Instalación (Colab)\n",
    "# Esta celda asegura que las dependencias estén disponibles en Colab.\n",
    "# (En Colab normalmente ya hay TensorFlow, pero lo dejamos por compatibilidad)\n",
    "!pip -q install tensorflow matplotlib numpy\n"
   ]
  },
  {
   "cell_type": "code",
   "execution_count": null,
   "id": "81f6b70b",
   "metadata": {},
   "outputs": [],
   "source": [
    "# @title 📦 Importaciones\n",
    "import numpy as np\n",
    "import matplotlib.pyplot as plt\n",
    "from tensorflow.keras.datasets import cifar10\n",
    "from tensorflow.keras.utils import to_categorical\n",
    "from tensorflow.keras.models import Sequential\n",
    "from tensorflow.keras.layers import Conv2D, MaxPooling2D, Flatten, Dense\n",
    "from tensorflow.keras.optimizers import Adam\n",
    "\n",
    "# Hacer que las figuras se vean bien en Colab\n",
    "plt.rcParams['figure.figsize'] = (6,6)\n"
   ]
  },
  {
   "cell_type": "markdown",
   "id": "14517976",
   "metadata": {},
   "source": [
    "\n",
    "## ⚙️ Fase 1 — Preparación del Dataset (CIFAR-10)\n",
    "\n",
    "- **Carga** del dataset (`tensorflow.keras.datasets.cifar10`).\n",
    "- **Normalización** de píxeles al rango \\([0,1]\\).\n",
    "- **One-hot encoding** de etiquetas.\n",
    "- **Visualización** de 9 imágenes con su clase.\n"
   ]
  },
  {
   "cell_type": "code",
   "execution_count": null,
   "id": "a8588fc6",
   "metadata": {},
   "outputs": [],
   "source": [
    "# @title 📥 Carga del dataset y preprocesamiento\n",
    "# Carga\n",
    "(x_train, y_train), (x_test, y_test) = cifar10.load_data()\n",
    "\n",
    "# Normalización al rango [0, 1]\n",
    "x_train = x_train.astype('float32') / 255.0\n",
    "x_test  = x_test.astype('float32')  / 255.0\n",
    "\n",
    "# One-hot encoding\n",
    "y_train = to_categorical(y_train, 10)\n",
    "y_test  = to_categorical(y_test, 10)\n",
    "\n",
    "# Resumen\n",
    "print(\"Tamaño entrenamiento:\", x_train.shape, \"| Tamaño prueba:\", x_test.shape)\n",
    "print(\"Ejemplo etiqueta one-hot:\", y_train[0])\n"
   ]
  },
  {
   "cell_type": "code",
   "execution_count": null,
   "id": "e18784d0",
   "metadata": {},
   "outputs": [],
   "source": [
    "# @title 🖼️ Visualización de CIFAR-10 (9 ejemplos)\n",
    "class_names = ['avión', 'automóvil', 'pájaro', 'gato', 'ciervo',\n",
    "               'perro', 'rana', 'caballo', 'barco', 'camión']\n",
    "\n",
    "fig, axes = plt.subplots(3, 3, figsize=(6,6))\n",
    "for i, ax in enumerate(axes.flat):\n",
    "    ax.imshow(x_train[i])\n",
    "    ax.set_title(class_names[np.argmax(y_train[i])])\n",
    "    ax.axis('off')\n",
    "plt.tight_layout()\n",
    "plt.show()\n"
   ]
  },
  {
   "cell_type": "markdown",
   "id": "26c2656d",
   "metadata": {},
   "source": [
    "\n",
    "## 🧠 Fase 2 — Construcción del Modelo (CNN)\n",
    "\n",
    "Arquitectura **Sequential** con dos bloques convolucionales (Conv2D + MaxPooling) y clasificador denso:\n",
    "- `Conv2D(32, 3×3, ReLU)` → `MaxPooling(2×2)`  \n",
    "- `Conv2D(64, 3×3, ReLU)` → `MaxPooling(2×2)`  \n",
    "- `Flatten` → `Dense(64, ReLU)` → `Dense(10, Softmax)`\n"
   ]
  },
  {
   "cell_type": "code",
   "execution_count": null,
   "id": "2b62f1cf",
   "metadata": {},
   "outputs": [],
   "source": [
    "# @title 🧩 Definición de la CNN\n",
    "model = Sequential(name=\"CNN_CIFAR10_Base\")\n",
    "model.add(Conv2D(32, (3,3), activation='relu', input_shape=(32,32,3), name=\"Conv2D_1\"))\n",
    "model.add(MaxPooling2D(pool_size=(2,2), name=\"MaxPool_1\"))\n",
    "model.add(Conv2D(64, (3,3), activation='relu', name=\"Conv2D_2\"))\n",
    "model.add(MaxPooling2D(pool_size=(2,2), name=\"MaxPool_2\"))\n",
    "model.add(Flatten(name=\"Flatten\"))\n",
    "model.add(Dense(64, activation='relu', name=\"Dense_64\"))\n",
    "model.add(Dense(10, activation='softmax', name=\"Output\"))\n",
    "\n",
    "model.summary()\n"
   ]
  },
  {
   "cell_type": "markdown",
   "id": "858106e2",
   "metadata": {},
   "source": [
    "\n",
    "## 📈 Fase 3 — Entrenamiento y Evaluación\n",
    "\n",
    "- **Compilación:** `optimizer=Adam`, `loss=categorical_crossentropy`, `metrics=['accuracy']`  \n",
    "- **Entrenamiento:** 8 épocas, `batch_size=64`, `validation_split=0.1`  \n",
    "- **Evaluación:** precisión y pérdida en el conjunto de **test**.\n"
   ]
  },
  {
   "cell_type": "code",
   "execution_count": null,
   "id": "0700cada",
   "metadata": {},
   "outputs": [],
   "source": [
    "# @title 🏋️ Compilación y entrenamiento (8 épocas)\n",
    "model.compile(optimizer=Adam(),\n",
    "              loss='categorical_crossentropy',\n",
    "              metrics=['accuracy'])\n",
    "\n",
    "history = model.fit(\n",
    "    x_train, y_train,\n",
    "    epochs=8,\n",
    "    batch_size=64,\n",
    "    validation_split=0.1,\n",
    "    verbose=1\n",
    ")\n",
    "\n",
    "print(\"✅ Entrenamiento completado.\")\n"
   ]
  },
  {
   "cell_type": "code",
   "execution_count": null,
   "id": "bab223cc",
   "metadata": {},
   "outputs": [],
   "source": [
    "# @title 🧪 Evaluación en test\n",
    "test_loss, test_acc = model.evaluate(x_test, y_test, verbose=1)\n",
    "print(f\"📊 Resultado en test → Loss: {test_loss:.4f} | Accuracy: {test_acc:.4f}\")\n"
   ]
  },
  {
   "cell_type": "code",
   "execution_count": null,
   "id": "7ad0149f",
   "metadata": {},
   "outputs": [],
   "source": [
    "# @title 📊 Gráficas de precisión y pérdida\n",
    "acc = history.history['accuracy']\n",
    "val_acc = history.history['val_accuracy']\n",
    "loss = history.history['loss']\n",
    "val_loss = history.history['val_loss']\n",
    "epochs = range(1, len(acc) + 1)\n",
    "\n",
    "plt.figure(figsize=(12,5))\n",
    "\n",
    "# Precisión\n",
    "plt.subplot(1,2,1)\n",
    "plt.plot(epochs, acc, 'o-', label='Entrenamiento')\n",
    "plt.plot(epochs, val_acc, 'o-', label='Validación')\n",
    "plt.title('Precisión')\n",
    "plt.xlabel('Épocas'); plt.ylabel('Accuracy'); plt.legend()\n",
    "\n",
    "# Pérdida\n",
    "plt.subplot(1,2,2)\n",
    "plt.plot(epochs, loss, 'o-', label='Entrenamiento')\n",
    "plt.plot(epochs, val_loss, 'o-', label='Validación')\n",
    "plt.title('Pérdida')\n",
    "plt.xlabel('Épocas'); plt.ylabel('Loss'); plt.legend()\n",
    "\n",
    "plt.tight_layout()\n",
    "plt.show()\n"
   ]
  },
  {
   "cell_type": "markdown",
   "id": "18fda5d3",
   "metadata": {},
   "source": [
    "\n",
    "## 💬 Pregunta de Análisis\n",
    "\n",
    "**¿Qué partes del modelo corresponden a (1) *Input*, (2) *Preprocessing*, (3) *Feature Extraction* y (4) *Classifier*?  \n",
    "¿Cómo ha automatizado la CNN el proceso de *Feature Extraction*?**\n",
    "\n",
    "**Respuesta (resumen técnico):**  \n",
    "1) **Input**: los tensores de imágenes `x_train/x_test` con forma `(32,32,3)`.  \n",
    "2) **Preprocessing**: la **normalización** de píxeles a \\([0,1]\\) y el **one-hot encoding** de etiquetas.  \n",
    "3) **Feature Extraction**: las capas **Conv2D** y **MaxPooling2D**, que aprenden jerárquicamente filtros (bordes, texturas, formas) y reducen la dimensionalidad manteniendo información relevante.  \n",
    "4) **Classifier**: `Flatten → Dense(64, ReLU) → Dense(10, Softmax)` que combinan las características extraídas y producen probabilidades por clase.  \n",
    "\n",
    "La **CNN automatiza la extracción de características** porque los filtros de `Conv2D` **no están predefinidos**: se **aprenden** mediante **retropropagación del gradiente** para minimizar la **entropía cruzada**. Así, el modelo descubre representaciones discriminativas sin ingeniería manual de rasgos.\n"
   ]
  }
 ],
 "metadata": {
  "language_info": {
   "name": "python"
  }
 },
 "nbformat": 4,
 "nbformat_minor": 5
}
